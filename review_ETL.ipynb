{
 "cells": [
  {
   "cell_type": "markdown",
   "metadata": {},
   "source": [
    "# Initialization"
   ]
  },
  {
   "cell_type": "code",
   "execution_count": 1,
   "metadata": {
    "ExecuteTime": {
     "end_time": "2019-03-21T15:30:11.259090Z",
     "start_time": "2019-03-21T15:30:10.395699Z"
    }
   },
   "outputs": [],
   "source": [
    "import pyspark\n",
    "import numpy as np\n",
    "import pandas as pd\n",
    "import pandas.api.types\n",
    "\n",
    "from pyspark.sql import SparkSession\n",
    "from pyspark.sql.functions import udf #needed for UDF\n",
    "from pyspark.sql.types import * #needed for all the sql types\n",
    "from pyspark.sql import functions as F\n",
    "from pyspark.sql.functions import lit, col, split, explode\n",
    "from datetime import date, timedelta\n",
    "from pyspark.sql.window import Window\n",
    "\n",
    "import datetime\n",
    "import operator"
   ]
  },
  {
   "cell_type": "code",
   "execution_count": 2,
   "metadata": {
    "ExecuteTime": {
     "end_time": "2019-03-21T15:30:12.464224Z",
     "start_time": "2019-03-21T15:30:11.260066Z"
    }
   },
   "outputs": [],
   "source": [
    "import matplotlib.pyplot as plt\n",
    "import seaborn as sns\n",
    "\n",
    "%matplotlib inline"
   ]
  },
  {
   "cell_type": "markdown",
   "metadata": {},
   "source": [
    "# Spark Session"
   ]
  },
  {
   "cell_type": "code",
   "execution_count": 3,
   "metadata": {
    "ExecuteTime": {
     "end_time": "2019-03-21T15:30:24.368783Z",
     "start_time": "2019-03-21T15:30:12.467121Z"
    }
   },
   "outputs": [],
   "source": [
    "## Create a spark session\n",
    "spark = SparkSession \\\n",
    "    .builder \\\n",
    "    .appName(\"yelp_development\") \\\n",
    "    .getOrCreate()"
   ]
  },
  {
   "cell_type": "code",
   "execution_count": 4,
   "metadata": {
    "ExecuteTime": {
     "end_time": "2019-03-21T15:30:24.625471Z",
     "start_time": "2019-03-21T15:30:24.370737Z"
    }
   },
   "outputs": [],
   "source": [
    "## Import dependencies libraries\n",
    "spark \\\n",
    "    .sparkContext \\\n",
    "    .addPyFile(\"D:/EB5001/dependencies/yelp_ETL.py\")\n",
    "    \n",
    "import yelp_ETL as yetl"
   ]
  },
  {
   "cell_type": "code",
   "execution_count": 5,
   "metadata": {
    "ExecuteTime": {
     "end_time": "2019-03-21T15:30:24.632304Z",
     "start_time": "2019-03-21T15:30:24.627424Z"
    }
   },
   "outputs": [],
   "source": [
    "## Path to data source\n",
    "INPUT_PATH = \"D:/EB5001/input/\"\n",
    "OUTPUT_PATH = \"D:/EB5001/output/\""
   ]
  },
  {
   "cell_type": "markdown",
   "metadata": {},
   "source": [
    "# Yelp Business"
   ]
  },
  {
   "cell_type": "code",
   "execution_count": 6,
   "metadata": {
    "ExecuteTime": {
     "end_time": "2019-03-21T15:30:34.617829Z",
     "start_time": "2019-03-21T15:30:24.634257Z"
    }
   },
   "outputs": [],
   "source": [
    "df_business = yetl.import_yelp_data(spark, 'business', INPUT_PATH)"
   ]
  },
  {
   "cell_type": "code",
   "execution_count": 7,
   "metadata": {
    "ExecuteTime": {
     "end_time": "2019-03-21T15:30:34.625637Z",
     "start_time": "2019-03-21T15:30:34.621732Z"
    }
   },
   "outputs": [],
   "source": [
    "# df_business.printSchema()"
   ]
  },
  {
   "cell_type": "code",
   "execution_count": 8,
   "metadata": {
    "ExecuteTime": {
     "end_time": "2019-03-21T15:30:34.645666Z",
     "start_time": "2019-03-21T15:30:34.628564Z"
    }
   },
   "outputs": [],
   "source": [
    "# df_business.count()"
   ]
  },
  {
   "cell_type": "code",
   "execution_count": 9,
   "metadata": {
    "ExecuteTime": {
     "end_time": "2019-03-21T15:30:34.764739Z",
     "start_time": "2019-03-21T15:30:34.647618Z"
    }
   },
   "outputs": [],
   "source": [
    "df_business = yetl.transform_business(df_business)"
   ]
  },
  {
   "cell_type": "code",
   "execution_count": 10,
   "metadata": {
    "ExecuteTime": {
     "end_time": "2019-03-21T15:30:34.772546Z",
     "start_time": "2019-03-21T15:30:34.768642Z"
    }
   },
   "outputs": [],
   "source": [
    "# df_business.printSchema()"
   ]
  },
  {
   "cell_type": "code",
   "execution_count": null,
   "metadata": {
    "ExecuteTime": {
     "start_time": "2019-03-21T15:30:10.432Z"
    }
   },
   "outputs": [],
   "source": [
    "# df_business.count()"
   ]
  },
  {
   "cell_type": "markdown",
   "metadata": {},
   "source": [
    "# Yelp Review"
   ]
  },
  {
   "cell_type": "code",
   "execution_count": null,
   "metadata": {
    "ExecuteTime": {
     "start_time": "2019-03-21T15:30:10.435Z"
    }
   },
   "outputs": [],
   "source": [
    "df_review = yetl.import_yelp_data(spark, 'review', INPUT_PATH)"
   ]
  },
  {
   "cell_type": "code",
   "execution_count": null,
   "metadata": {
    "ExecuteTime": {
     "start_time": "2019-03-21T15:30:10.440Z"
    }
   },
   "outputs": [],
   "source": [
    "# df_review.printSchema()"
   ]
  },
  {
   "cell_type": "code",
   "execution_count": null,
   "metadata": {
    "ExecuteTime": {
     "start_time": "2019-03-21T15:30:10.445Z"
    }
   },
   "outputs": [],
   "source": [
    "# df_review.count()"
   ]
  },
  {
   "cell_type": "markdown",
   "metadata": {},
   "source": [
    "# Business Level Data Preparation"
   ]
  },
  {
   "cell_type": "markdown",
   "metadata": {},
   "source": [
    "## Review Business"
   ]
  },
  {
   "cell_type": "code",
   "execution_count": null,
   "metadata": {
    "ExecuteTime": {
     "start_time": "2019-03-21T15:30:10.495Z"
    }
   },
   "outputs": [],
   "source": [
    "df_review_business = yetl.transform_review_business(df_review, df_business)"
   ]
  },
  {
   "cell_type": "code",
   "execution_count": null,
   "metadata": {
    "ExecuteTime": {
     "start_time": "2019-03-21T15:30:10.498Z"
    }
   },
   "outputs": [],
   "source": [
    "# df_review_business.printSchema()"
   ]
  },
  {
   "cell_type": "code",
   "execution_count": null,
   "metadata": {
    "ExecuteTime": {
     "start_time": "2019-03-21T15:30:10.501Z"
    }
   },
   "outputs": [],
   "source": [
    "# df_review_business.count()"
   ]
  },
  {
   "cell_type": "markdown",
   "metadata": {},
   "source": [
    "## Data Loading"
   ]
  },
  {
   "cell_type": "code",
   "execution_count": null,
   "metadata": {
    "ExecuteTime": {
     "start_time": "2019-03-21T15:30:10.503Z"
    }
   },
   "outputs": [],
   "source": [
    "# yetl.load_yelp_data_daily(df_review_business, 'review', OUTPUT_PATH)"
   ]
  },
  {
   "cell_type": "markdown",
   "metadata": {},
   "source": [
    "## Aggregation"
   ]
  },
  {
   "cell_type": "code",
   "execution_count": null,
   "metadata": {
    "ExecuteTime": {
     "start_time": "2019-03-21T15:30:10.509Z"
    }
   },
   "outputs": [],
   "source": [
    "df_review_combined = yetl.import_yelp_yearly_data(spark, 'review', '2017', OUTPUT_PATH)\n",
    "df_review_combined = yetl.transform_review_business_yearly(df_review_combined)"
   ]
  },
  {
   "cell_type": "code",
   "execution_count": null,
   "metadata": {
    "ExecuteTime": {
     "start_time": "2019-03-21T15:30:10.512Z"
    }
   },
   "outputs": [],
   "source": [
    "df_review_combined.show()"
   ]
  },
  {
   "cell_type": "code",
   "execution_count": null,
   "metadata": {
    "ExecuteTime": {
     "start_time": "2019-03-21T15:30:10.515Z"
    }
   },
   "outputs": [],
   "source": [
    "# yetl.load_yelp_data_yearly(df_review_combined, 'review', '2017', OUTPUT_PATH)"
   ]
  }
 ],
 "metadata": {
  "kernelspec": {
   "display_name": "Python 3",
   "language": "python",
   "name": "python3"
  },
  "language_info": {
   "codemirror_mode": {
    "name": "ipython",
    "version": 3
   },
   "file_extension": ".py",
   "mimetype": "text/x-python",
   "name": "python",
   "nbconvert_exporter": "python",
   "pygments_lexer": "ipython3",
   "version": "3.6.3"
  },
  "toc": {
   "nav_menu": {},
   "number_sections": true,
   "sideBar": true,
   "skip_h1_title": false,
   "title_cell": "Table of Contents",
   "title_sidebar": "Contents",
   "toc_cell": false,
   "toc_position": {},
   "toc_section_display": true,
   "toc_window_display": true
  }
 },
 "nbformat": 4,
 "nbformat_minor": 2
}
