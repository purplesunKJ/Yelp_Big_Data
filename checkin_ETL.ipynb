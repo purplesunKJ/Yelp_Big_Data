{
 "cells": [
  {
   "cell_type": "markdown",
   "metadata": {},
   "source": [
    "# Initialization"
   ]
  },
  {
   "cell_type": "code",
   "execution_count": 11,
   "metadata": {
    "ExecuteTime": {
     "end_time": "2019-03-22T12:41:04.210710Z",
     "start_time": "2019-03-22T12:41:04.197046Z"
    }
   },
   "outputs": [],
   "source": [
    "import pyspark\n",
    "import numpy as np\n",
    "import pandas as pd\n",
    "import pandas.api.types\n",
    "\n",
    "from pyspark.sql import SparkSession\n",
    "from pyspark.sql.functions import udf #needed for UDF\n",
    "from pyspark.sql.types import * #needed for all the sql types\n",
    "from pyspark.sql import functions as F\n",
    "from pyspark.sql.functions import lit, col, split, explode\n",
    "from pyspark.sql.window import Window\n",
    "\n",
    "from datetime import datetime\n",
    "import operator"
   ]
  },
  {
   "cell_type": "code",
   "execution_count": 12,
   "metadata": {
    "ExecuteTime": {
     "end_time": "2019-03-22T12:41:04.231205Z",
     "start_time": "2019-03-22T12:41:04.212664Z"
    }
   },
   "outputs": [],
   "source": [
    "import matplotlib.pyplot as plt\n",
    "import seaborn as sns\n",
    "\n",
    "%matplotlib inline"
   ]
  },
  {
   "cell_type": "markdown",
   "metadata": {},
   "source": [
    "# Spark Session"
   ]
  },
  {
   "cell_type": "code",
   "execution_count": 13,
   "metadata": {
    "ExecuteTime": {
     "end_time": "2019-03-22T12:41:04.240967Z",
     "start_time": "2019-03-22T12:41:04.234135Z"
    }
   },
   "outputs": [],
   "source": [
    "## Create a spark session\n",
    "spark = SparkSession \\\n",
    "    .builder \\\n",
    "    .appName(\"yelp_development\") \\\n",
    "    .getOrCreate()"
   ]
  },
  {
   "cell_type": "code",
   "execution_count": 14,
   "metadata": {
    "ExecuteTime": {
     "end_time": "2019-03-22T12:41:04.251715Z",
     "start_time": "2019-03-22T12:41:04.243894Z"
    }
   },
   "outputs": [],
   "source": [
    "## Import dependencies libraries\n",
    "spark \\\n",
    "    .sparkContext \\\n",
    "    .addPyFile(\"D:/EB5001/dependencies/yelp_ETL.py\")\n",
    "    \n",
    "import yelp_ETL as yetl"
   ]
  },
  {
   "cell_type": "code",
   "execution_count": 15,
   "metadata": {
    "ExecuteTime": {
     "end_time": "2019-03-22T12:41:04.262439Z",
     "start_time": "2019-03-22T12:41:04.254631Z"
    }
   },
   "outputs": [],
   "source": [
    "## Path to data source\n",
    "INPUT_PATH = \"D:/EB5001/input/\"\n",
    "OUTPUT_PATH = \"D:/EB5001/output/\""
   ]
  },
  {
   "cell_type": "markdown",
   "metadata": {},
   "source": [
    "# Adhoc Run"
   ]
  },
  {
   "cell_type": "code",
   "execution_count": 19,
   "metadata": {
    "ExecuteTime": {
     "end_time": "2019-03-22T12:42:28.744082Z",
     "start_time": "2019-03-22T12:42:28.335137Z"
    }
   },
   "outputs": [],
   "source": [
    "df_review_combined = yetl.import_yelp_yearly_data(spark, 'review', '201712', OUTPUT_PATH)\n",
    "df_review_combined = yetl.transform_review_business_yearly(df_review_combined)"
   ]
  },
  {
   "cell_type": "code",
   "execution_count": 20,
   "metadata": {
    "ExecuteTime": {
     "end_time": "2019-03-22T12:42:34.357091Z",
     "start_time": "2019-03-22T12:42:30.009013Z"
    }
   },
   "outputs": [
    {
     "data": {
      "text/plain": [
       "455324"
      ]
     },
     "execution_count": 20,
     "metadata": {},
     "output_type": "execute_result"
    }
   ],
   "source": [
    "df_review_combined.count()"
   ]
  },
  {
   "cell_type": "code",
   "execution_count": 21,
   "metadata": {
    "ExecuteTime": {
     "end_time": "2019-03-22T12:43:03.595592Z",
     "start_time": "2019-03-22T12:42:41.055772Z"
    }
   },
   "outputs": [],
   "source": [
    "df_review_combined_pd = df_review_combined.toPandas()\n",
    "df_review_combined_pd.to_csv('201712_review.csv')"
   ]
  },
  {
   "cell_type": "markdown",
   "metadata": {},
   "source": [
    "# Yelp Business"
   ]
  },
  {
   "cell_type": "code",
   "execution_count": null,
   "metadata": {
    "ExecuteTime": {
     "end_time": "2019-03-21T15:26:14.984085Z",
     "start_time": "2019-03-21T15:26:04.830883Z"
    }
   },
   "outputs": [],
   "source": [
    "df_business = yetl.import_yelp_data(spark, 'business', INPUT_PATH)"
   ]
  },
  {
   "cell_type": "code",
   "execution_count": null,
   "metadata": {
    "ExecuteTime": {
     "end_time": "2019-03-21T15:26:14.991894Z",
     "start_time": "2019-03-21T15:26:14.987015Z"
    }
   },
   "outputs": [],
   "source": [
    "# df_business.printSchema()"
   ]
  },
  {
   "cell_type": "code",
   "execution_count": null,
   "metadata": {
    "ExecuteTime": {
     "end_time": "2019-03-21T15:26:15.002630Z",
     "start_time": "2019-03-21T15:26:14.994823Z"
    }
   },
   "outputs": [],
   "source": [
    "# df_business.count()"
   ]
  },
  {
   "cell_type": "code",
   "execution_count": null,
   "metadata": {
    "ExecuteTime": {
     "end_time": "2019-03-21T15:26:15.118774Z",
     "start_time": "2019-03-21T15:26:15.005557Z"
    }
   },
   "outputs": [],
   "source": [
    "df_business = yetl.transform_business(df_business)"
   ]
  },
  {
   "cell_type": "code",
   "execution_count": null,
   "metadata": {
    "ExecuteTime": {
     "end_time": "2019-03-21T15:26:15.125606Z",
     "start_time": "2019-03-21T15:26:15.121704Z"
    }
   },
   "outputs": [],
   "source": [
    "# df_business.printSchema()"
   ]
  },
  {
   "cell_type": "code",
   "execution_count": null,
   "metadata": {
    "ExecuteTime": {
     "end_time": "2019-03-21T15:26:15.143173Z",
     "start_time": "2019-03-21T15:26:15.129512Z"
    }
   },
   "outputs": [],
   "source": [
    "# df_business.count()"
   ]
  },
  {
   "cell_type": "markdown",
   "metadata": {},
   "source": [
    "# Yelp Check In"
   ]
  },
  {
   "cell_type": "code",
   "execution_count": null,
   "metadata": {
    "ExecuteTime": {
     "end_time": "2019-03-21T15:26:32.948971Z",
     "start_time": "2019-03-21T15:26:15.145129Z"
    }
   },
   "outputs": [],
   "source": [
    "df_checkin = yetl.import_yelp_data(spark, 'checkin', INPUT_PATH)"
   ]
  },
  {
   "cell_type": "code",
   "execution_count": null,
   "metadata": {
    "ExecuteTime": {
     "end_time": "2019-03-21T15:26:32.998746Z",
     "start_time": "2019-03-21T15:26:32.950924Z"
    }
   },
   "outputs": [],
   "source": [
    "df_checkin = yetl.transform_checkin(df_checkin)"
   ]
  },
  {
   "cell_type": "code",
   "execution_count": null,
   "metadata": {
    "ExecuteTime": {
     "end_time": "2019-03-21T15:26:33.006556Z",
     "start_time": "2019-03-21T15:26:33.001674Z"
    }
   },
   "outputs": [],
   "source": [
    "# df_checkin.printSchema()"
   ]
  },
  {
   "cell_type": "code",
   "execution_count": null,
   "metadata": {
    "ExecuteTime": {
     "end_time": "2019-03-21T15:26:33.023147Z",
     "start_time": "2019-03-21T15:26:33.010459Z"
    }
   },
   "outputs": [],
   "source": [
    "# df_checkin.count()"
   ]
  },
  {
   "cell_type": "markdown",
   "metadata": {},
   "source": [
    "# Business Level Data Preparation"
   ]
  },
  {
   "cell_type": "markdown",
   "metadata": {},
   "source": [
    "## Check In"
   ]
  },
  {
   "cell_type": "code",
   "execution_count": null,
   "metadata": {
    "ExecuteTime": {
     "end_time": "2019-03-21T15:26:33.302497Z",
     "start_time": "2019-03-21T15:26:33.026076Z"
    }
   },
   "outputs": [],
   "source": [
    "df_checkin_business = yetl.transform_checkin_business(df_checkin, df_business)"
   ]
  },
  {
   "cell_type": "code",
   "execution_count": null,
   "metadata": {
    "ExecuteTime": {
     "end_time": "2019-03-21T15:26:33.309331Z",
     "start_time": "2019-03-21T15:26:33.304451Z"
    }
   },
   "outputs": [],
   "source": [
    "# df_checkin_business.printSchema()"
   ]
  },
  {
   "cell_type": "code",
   "execution_count": null,
   "metadata": {
    "ExecuteTime": {
     "end_time": "2019-03-21T15:26:33.333729Z",
     "start_time": "2019-03-21T15:26:33.312258Z"
    }
   },
   "outputs": [],
   "source": [
    "# df_checkin_business.count()"
   ]
  },
  {
   "cell_type": "markdown",
   "metadata": {},
   "source": [
    "## Data Loading"
   ]
  },
  {
   "cell_type": "code",
   "execution_count": null,
   "metadata": {
    "ExecuteTime": {
     "end_time": "2019-03-21T15:26:33.347392Z",
     "start_time": "2019-03-21T15:26:33.336659Z"
    }
   },
   "outputs": [],
   "source": [
    "# yetl.load_yelp_data_daily(df_checkin_business, 'checkin', OUTPUT_PATH)"
   ]
  },
  {
   "cell_type": "markdown",
   "metadata": {},
   "source": [
    "## Aggregation"
   ]
  },
  {
   "cell_type": "code",
   "execution_count": null,
   "metadata": {
    "ExecuteTime": {
     "end_time": "2019-03-21T15:26:33.722177Z",
     "start_time": "2019-03-21T15:26:33.350323Z"
    }
   },
   "outputs": [],
   "source": [
    "df_checkin_combined = yetl.import_yelp_yearly_data(spark, 'checkin', '2017', OUTPUT_PATH)\n",
    "df_checkin_combined = yetl.transform_checkin_business_yearly(df_checkin_combined)"
   ]
  },
  {
   "cell_type": "code",
   "execution_count": null,
   "metadata": {
    "ExecuteTime": {
     "end_time": "2019-03-21T15:26:33.724129Z",
     "start_time": "2019-03-21T15:25:51.183Z"
    }
   },
   "outputs": [],
   "source": [
    "df_checkin_combined.show()"
   ]
  },
  {
   "cell_type": "code",
   "execution_count": null,
   "metadata": {
    "ExecuteTime": {
     "end_time": "2019-03-21T15:26:33.729008Z",
     "start_time": "2019-03-21T15:25:51.186Z"
    }
   },
   "outputs": [],
   "source": [
    "# df_checkin_business \\\n",
    "#     .describe('avg_stars', 'total_review_count') \\\n",
    "#     .show()"
   ]
  },
  {
   "cell_type": "code",
   "execution_count": null,
   "metadata": {
    "ExecuteTime": {
     "end_time": "2019-03-21T15:26:33.731938Z",
     "start_time": "2019-03-21T15:25:51.189Z"
    }
   },
   "outputs": [],
   "source": [
    "# df_checkin_business \\\n",
    "#     .withColumn('categories',explode(split('categories',', '))) \\\n",
    "#     .orderBy('date', 'hour', 'name', 'categories') \\\n",
    "#     .show(truncate=False)"
   ]
  },
  {
   "cell_type": "code",
   "execution_count": null,
   "metadata": {},
   "outputs": [],
   "source": []
  }
 ],
 "metadata": {
  "kernelspec": {
   "display_name": "Python 3",
   "language": "python",
   "name": "python3"
  },
  "language_info": {
   "codemirror_mode": {
    "name": "ipython",
    "version": 3
   },
   "file_extension": ".py",
   "mimetype": "text/x-python",
   "name": "python",
   "nbconvert_exporter": "python",
   "pygments_lexer": "ipython3",
   "version": "3.6.3"
  },
  "toc": {
   "nav_menu": {},
   "number_sections": true,
   "sideBar": true,
   "skip_h1_title": false,
   "title_cell": "Table of Contents",
   "title_sidebar": "Contents",
   "toc_cell": false,
   "toc_position": {},
   "toc_section_display": true,
   "toc_window_display": true
  }
 },
 "nbformat": 4,
 "nbformat_minor": 2
}
