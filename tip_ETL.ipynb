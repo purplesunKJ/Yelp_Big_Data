{
 "cells": [
  {
   "cell_type": "markdown",
   "metadata": {},
   "source": [
    "# Initialization"
   ]
  },
  {
   "cell_type": "code",
   "execution_count": 4,
   "metadata": {
    "ExecuteTime": {
     "end_time": "2019-03-22T11:22:54.876098Z",
     "start_time": "2019-03-22T11:22:52.957283Z"
    }
   },
   "outputs": [],
   "source": [
    "import pyspark\n",
    "import numpy as np\n",
    "import pandas as pd\n",
    "import pandas.api.types\n",
    "\n",
    "from pyspark.sql import SparkSession\n",
    "from pyspark.sql.functions import udf #needed for UDF\n",
    "from pyspark.sql.types import * #needed for all the sql types\n",
    "from pyspark.sql import functions as F\n",
    "from pyspark.sql.functions import lit, col, split, explode\n",
    "from datetime import date, timedelta\n",
    "from pyspark.sql.window import Window\n",
    "\n",
    "import datetime\n",
    "import operator"
   ]
  },
  {
   "cell_type": "code",
   "execution_count": 5,
   "metadata": {
    "ExecuteTime": {
     "end_time": "2019-03-22T11:22:58.135938Z",
     "start_time": "2019-03-22T11:22:54.879028Z"
    }
   },
   "outputs": [],
   "source": [
    "import matplotlib.pyplot as plt\n",
    "import seaborn as sns\n",
    "\n",
    "%matplotlib inline"
   ]
  },
  {
   "cell_type": "markdown",
   "metadata": {},
   "source": [
    "# Spark Session"
   ]
  },
  {
   "cell_type": "code",
   "execution_count": 6,
   "metadata": {
    "ExecuteTime": {
     "end_time": "2019-03-22T11:23:20.510435Z",
     "start_time": "2019-03-22T11:22:58.138870Z"
    }
   },
   "outputs": [],
   "source": [
    "## Create a spark session\n",
    "spark = SparkSession \\\n",
    "    .builder \\\n",
    "    .appName(\"yelp_development\") \\\n",
    "    .getOrCreate()"
   ]
  },
  {
   "cell_type": "code",
   "execution_count": 4,
   "metadata": {
    "ExecuteTime": {
     "end_time": "2019-03-22T10:06:24.088083Z",
     "start_time": "2019-03-22T10:06:23.750091Z"
    }
   },
   "outputs": [],
   "source": [
    "## Import dependencies libraries\n",
    "spark \\\n",
    "    .sparkContext \\\n",
    "    .addPyFile(\"D:/EB5001/dependencies/yelp_ETL.py\")\n",
    "    \n",
    "import yelp_ETL as yetl"
   ]
  },
  {
   "cell_type": "code",
   "execution_count": 8,
   "metadata": {
    "ExecuteTime": {
     "end_time": "2019-03-22T11:23:35.346491Z",
     "start_time": "2019-03-22T11:23:35.340635Z"
    }
   },
   "outputs": [],
   "source": [
    "## Path to data source\n",
    "INPUT_PATH = \"D:/EB5001/input/\"\n",
    "OUTPUT_PATH = \"D:/EB5001/output/\""
   ]
  },
  {
   "cell_type": "markdown",
   "metadata": {},
   "source": [
    "# Yelp Business"
   ]
  },
  {
   "cell_type": "code",
   "execution_count": 6,
   "metadata": {
    "ExecuteTime": {
     "end_time": "2019-03-22T10:06:36.136921Z",
     "start_time": "2019-03-22T10:06:24.098819Z"
    }
   },
   "outputs": [],
   "source": [
    "df_business = yetl.import_yelp_data(spark, 'business', INPUT_PATH)"
   ]
  },
  {
   "cell_type": "code",
   "execution_count": 7,
   "metadata": {
    "ExecuteTime": {
     "end_time": "2019-03-22T10:06:36.261850Z",
     "start_time": "2019-03-22T10:06:36.140825Z"
    }
   },
   "outputs": [],
   "source": [
    "df_business = yetl.transform_business(df_business)"
   ]
  },
  {
   "cell_type": "markdown",
   "metadata": {},
   "source": [
    "# Yelp Tip"
   ]
  },
  {
   "cell_type": "code",
   "execution_count": 8,
   "metadata": {
    "ExecuteTime": {
     "end_time": "2019-03-22T10:06:48.126226Z",
     "start_time": "2019-03-22T10:06:36.264778Z"
    }
   },
   "outputs": [],
   "source": [
    "df_tip = yetl.import_yelp_data(spark, 'tip', INPUT_PATH)"
   ]
  },
  {
   "cell_type": "markdown",
   "metadata": {},
   "source": [
    "# Business Level Data Preparation"
   ]
  },
  {
   "cell_type": "markdown",
   "metadata": {},
   "source": [
    "## Tip Business"
   ]
  },
  {
   "cell_type": "code",
   "execution_count": 9,
   "metadata": {
    "ExecuteTime": {
     "end_time": "2019-03-22T10:06:48.441633Z",
     "start_time": "2019-03-22T10:06:48.129146Z"
    }
   },
   "outputs": [],
   "source": [
    "df_tip_business = yetl.transform_tip_business(df_tip, df_business)"
   ]
  },
  {
   "cell_type": "markdown",
   "metadata": {},
   "source": [
    "## Data Loading"
   ]
  },
  {
   "cell_type": "code",
   "execution_count": 10,
   "metadata": {
    "ExecuteTime": {
     "end_time": "2019-03-22T10:06:48.449442Z",
     "start_time": "2019-03-22T10:06:48.444561Z"
    }
   },
   "outputs": [],
   "source": [
    "# yetl.load_yelp_data_daily(df_tip_business, 'tip', OUTPUT_PATH)"
   ]
  },
  {
   "cell_type": "markdown",
   "metadata": {},
   "source": [
    "## Aggregation"
   ]
  },
  {
   "cell_type": "code",
   "execution_count": 11,
   "metadata": {
    "ExecuteTime": {
     "end_time": "2019-03-22T10:06:58.246875Z",
     "start_time": "2019-03-22T10:06:48.452896Z"
    }
   },
   "outputs": [],
   "source": [
    "df_tip_combined = yetl.import_yelp_yearly_data(spark, 'tip', '2017', OUTPUT_PATH)\n",
    "# df_tip_combined = yetl.transform_tip_business_yearly(df_tip_combined)"
   ]
  },
  {
   "cell_type": "code",
   "execution_count": 12,
   "metadata": {
    "ExecuteTime": {
     "end_time": "2019-03-22T10:06:58.256635Z",
     "start_time": "2019-03-22T10:06:58.251754Z"
    }
   },
   "outputs": [],
   "source": [
    "# df_tip_combined.show()"
   ]
  },
  {
   "cell_type": "code",
   "execution_count": 13,
   "metadata": {
    "ExecuteTime": {
     "end_time": "2019-03-22T10:06:58.272315Z",
     "start_time": "2019-03-22T10:06:58.258587Z"
    }
   },
   "outputs": [],
   "source": [
    "# yetl.load_yelp_data_yearly(df_tip_combined, 'tip', '2017', OUTPUT_PATH)"
   ]
  },
  {
   "cell_type": "markdown",
   "metadata": {},
   "source": [
    "## Extract"
   ]
  },
  {
   "cell_type": "code",
   "execution_count": 9,
   "metadata": {
    "ExecuteTime": {
     "end_time": "2019-03-22T11:23:47.620284Z",
     "start_time": "2019-03-22T11:23:39.303789Z"
    }
   },
   "outputs": [],
   "source": [
    "df_tip_2017 = spark.read.parquet(OUTPUT_PATH + 'review/2017_parquet/*')"
   ]
  },
  {
   "cell_type": "code",
   "execution_count": 10,
   "metadata": {
    "ExecuteTime": {
     "end_time": "2019-03-22T11:23:47.680796Z",
     "start_time": "2019-03-22T11:23:47.622236Z"
    }
   },
   "outputs": [
    {
     "name": "stdout",
     "output_type": "stream",
     "text": [
      "root\n",
      " |-- date: date (nullable = true)\n",
      " |-- hour: integer (nullable = true)\n",
      " |-- name: string (nullable = true)\n",
      " |-- avg_stars: double (nullable = true)\n",
      " |-- total_review_count: long (nullable = true)\n",
      " |-- city: string (nullable = true)\n",
      " |-- address: string (nullable = true)\n",
      " |-- latitude: double (nullable = true)\n",
      " |-- longitude: double (nullable = true)\n",
      " |-- categories: string (nullable = true)\n",
      " |-- cool: long (nullable = true)\n",
      " |-- funny: long (nullable = true)\n",
      " |-- useful: long (nullable = true)\n",
      " |-- stars: double (nullable = true)\n",
      " |-- review_text: string (nullable = true)\n",
      "\n"
     ]
    }
   ],
   "source": [
    "df_tip_2017.printSchema()"
   ]
  },
  {
   "cell_type": "code",
   "execution_count": 19,
   "metadata": {
    "ExecuteTime": {
     "end_time": "2019-03-22T10:20:58.852369Z",
     "start_time": "2019-03-22T10:20:57.951521Z"
    },
    "scrolled": true
   },
   "outputs": [
    {
     "name": "stdout",
     "output_type": "stream",
     "text": [
      "+----------+----+--------------------+---------+------------------+----------+--------------------+-------------+---------------+--------------------+----------------+--------------------+\n",
      "|      date|hour|                name|avg_stars|total_review_count|      city|             address|     latitude|      longitude|          categories|compliment_count|            tip_text|\n",
      "+----------+----+--------------------+---------+------------------+----------+--------------------+-------------+---------------+--------------------+----------------+--------------------+\n",
      "|2017-05-17|   3|Stephano's Greek ...|      4.0|               295| Las Vegas|6115 S Fort Apach...|   36.0771648|   -115.2986213|            Lebanese|               0|I love the food h...|\n",
      "|2017-05-17|   3|Stephano's Greek ...|      4.0|               295| Las Vegas|6115 S Fort Apach...|   36.0771648|   -115.2986213|       Mediterranean|               0|I love the food h...|\n",
      "|2017-05-17|   3|Stephano's Greek ...|      4.0|               295| Las Vegas|6115 S Fort Apach...|   36.0771648|   -115.2986213|      Middle Eastern|               0|I love the food h...|\n",
      "|2017-05-17|   3|Stephano's Greek ...|      4.0|               295| Las Vegas|6115 S Fort Apach...|   36.0771648|   -115.2986213|         Restaurants|               0|I love the food h...|\n",
      "|2017-05-17|   3|       Vinny's Pizza|      2.0|                22|Pittsburgh|  618 Brookline Blvd|   40.3950041|    -80.0221746|               Pizza|               0|This place makes ...|\n",
      "|2017-05-17|   3|       Vinny's Pizza|      2.0|                22|Pittsburgh|  618 Brookline Blvd|   40.3950041|    -80.0221746|         Restaurants|               0|This place makes ...|\n",
      "|2017-05-17|   3|             Wendy's|      2.5|                17|   Phoenix| 9905 W Camelback Rd|   33.5079809|   -112.2733763|             Burgers|               0|They have never c...|\n",
      "|2017-05-17|   3|             Wendy's|      2.5|                17|   Phoenix| 9905 W Camelback Rd|   33.5079809|   -112.2733763|           Fast Food|               0|They have never c...|\n",
      "|2017-05-17|   3|             Wendy's|      2.5|                17|   Phoenix| 9905 W Camelback Rd|   33.5079809|   -112.2733763|         Restaurants|               0|They have never c...|\n",
      "|2017-05-17|   3|      Yoshi Burritos|      4.0|               235| Las Vegas|4165 S Grand Cany...|   36.1141241|   -115.3087109|        Asian Fusion|               0|Really good poke ...|\n",
      "|2017-05-17|   3|      Yoshi Burritos|      4.0|               235| Las Vegas|4165 S Grand Cany...|   36.1141241|   -115.3087109|                Food|               0|Really good poke ...|\n",
      "|2017-05-17|   3|      Yoshi Burritos|      4.0|               235| Las Vegas|4165 S Grand Cany...|   36.1141241|   -115.3087109|                Poke|               0|Really good poke ...|\n",
      "|2017-05-17|   3|      Yoshi Burritos|      4.0|               235| Las Vegas|4165 S Grand Cany...|   36.1141241|   -115.3087109|         Restaurants|               0|Really good poke ...|\n",
      "|2017-05-17|   3|      Yoshi Burritos|      4.0|               235| Las Vegas|4165 S Grand Cany...|   36.1141241|   -115.3087109|          Sushi Bars|               0|Really good poke ...|\n",
      "|2017-05-17|   4|Alamo Drafthouse ...|      3.5|               330|  Chandler|  4955 S Arizona Ave|   33.2344871|   -111.8390657|Arts & Entertainment|               0|Do not get the bl...|\n",
      "|2017-05-17|   4|Alamo Drafthouse ...|      3.5|               330|  Chandler|  4955 S Arizona Ave|   33.2344871|   -111.8390657|              Cinema|               0|Do not get the bl...|\n",
      "|2017-05-17|   4|  Aloha Hawaiian BBQ|      3.5|               103| Las Vegas|6475 Pecos Rd, Ste B| 36.072454464|-115.1013189233|            Barbeque|               0|Awesome food and ...|\n",
      "|2017-05-17|   4|  Aloha Hawaiian BBQ|      3.5|               103| Las Vegas|6475 Pecos Rd, Ste B| 36.072454464|-115.1013189233|            Hawaiian|               0|Awesome food and ...|\n",
      "|2017-05-17|   4|  Aloha Hawaiian BBQ|      3.5|               103| Las Vegas|6475 Pecos Rd, Ste B| 36.072454464|-115.1013189233|         Restaurants|               0|Awesome food and ...|\n",
      "|2017-05-17|   4|Amalfi Ristorante...|      3.5|               152|  Chandler|4991 S Alma Schoo...|33.2333191927|   -111.8583223|             Italian|               0|The amalfi specia...|\n",
      "+----------+----+--------------------+---------+------------------+----------+--------------------+-------------+---------------+--------------------+----------------+--------------------+\n",
      "only showing top 20 rows\n",
      "\n"
     ]
    }
   ],
   "source": [
    "df_tip_2017.show()"
   ]
  },
  {
   "cell_type": "code",
   "execution_count": null,
   "metadata": {},
   "outputs": [],
   "source": []
  }
 ],
 "metadata": {
  "kernelspec": {
   "display_name": "Python 3",
   "language": "python",
   "name": "python3"
  },
  "language_info": {
   "codemirror_mode": {
    "name": "ipython",
    "version": 3
   },
   "file_extension": ".py",
   "mimetype": "text/x-python",
   "name": "python",
   "nbconvert_exporter": "python",
   "pygments_lexer": "ipython3",
   "version": "3.6.3"
  },
  "toc": {
   "nav_menu": {},
   "number_sections": true,
   "sideBar": true,
   "skip_h1_title": false,
   "title_cell": "Table of Contents",
   "title_sidebar": "Contents",
   "toc_cell": false,
   "toc_position": {},
   "toc_section_display": true,
   "toc_window_display": true
  }
 },
 "nbformat": 4,
 "nbformat_minor": 2
}
